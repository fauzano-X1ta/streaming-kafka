{
 "cells": [
  {
   "cell_type": "code",
   "execution_count": 1,
   "id": "a7b73482-d685-436f-846e-16c9b1e42d36",
   "metadata": {
    "tags": []
   },
   "outputs": [],
   "source": [
    "import json\n",
    "import uuid\n",
    "import os\n",
    "import json\n",
    "from dotenv import load_dotenv\n",
    "from pathlib import Path\n",
    "from kafka import KafkaProducer\n",
    "from faker import Faker\n",
    "from time import sleep"
   ]
  },
  {
   "cell_type": "code",
   "execution_count": 2,
   "id": "42f97822-c06f-47e0-a0a4-87a7bf1d95a9",
   "metadata": {
    "tags": []
   },
   "outputs": [
    {
     "data": {
      "text/plain": [
       "True"
      ]
     },
     "execution_count": 2,
     "metadata": {},
     "output_type": "execute_result"
    }
   ],
   "source": [
    "dotenv_path = Path('/resources/.env')\n",
    "load_dotenv(dotenv_path=dotenv_path)"
   ]
  },
  {
   "cell_type": "code",
   "execution_count": 3,
   "id": "3f89f5a9-8c75-4a38-b48d-ad72c6a13c41",
   "metadata": {
    "tags": []
   },
   "outputs": [],
   "source": [
    "kafka_host = os.getenv('KAFKA_HOST')\n",
    "kafka_topic = os.getenv('KAFKA_TOPIC_NAME')\n",
    "kafka_topic_partition = os.getenv('KAFKA_TOPIC_NAME')+\"-2\""
   ]
  },
  {
   "cell_type": "code",
   "execution_count": 4,
   "id": "a4a59d22-69c5-4e0a-b1e2-d0d77867c45b",
   "metadata": {
    "tags": []
   },
   "outputs": [
    {
     "name": "stdout",
     "output_type": "stream",
     "text": [
      "dataeng-kafka\n"
     ]
    }
   ],
   "source": [
    "print(kafka_host)"
   ]
  },
  {
   "cell_type": "code",
   "execution_count": 5,
   "id": "8515096d-3bc6-4905-98f5-eb1e6d7bfa4c",
   "metadata": {
    "tags": []
   },
   "outputs": [],
   "source": [
    "producer = KafkaProducer(bootstrap_servers=f'{kafka_host}:9092')"
   ]
  },
  {
   "cell_type": "code",
   "execution_count": 6,
   "id": "78075b5c-08c8-4c43-99a1-0689a87414c4",
   "metadata": {
    "tags": []
   },
   "outputs": [],
   "source": [
    "_instance = Faker()\n",
    "global faker\n",
    "faker = Faker()"
   ]
  },
  {
   "cell_type": "code",
   "execution_count": 7,
   "id": "503ade79-0f77-4970-8e04-ecefce397398",
   "metadata": {
    "tags": []
   },
   "outputs": [
    {
     "name": "stdout",
     "output_type": "stream",
     "text": [
      "410881f0-d58f-4466-ad11-7f31a812d322 RecordMetadata(topic='test-topic-2', partition=0, topic_partition=TopicPartition(topic='test-topic-2', partition=0), offset=0, timestamp=1710672714997, log_start_offset=0, checksum=None, serialized_key_size=-1, serialized_value_size=180, serialized_header_size=-1)\n",
      "88430f2a-932c-4a68-973c-c7fbb405799f RecordMetadata(topic='test-topic-2', partition=0, topic_partition=TopicPartition(topic='test-topic-2', partition=0), offset=1, timestamp=1710672725063, log_start_offset=0, checksum=None, serialized_key_size=-1, serialized_value_size=184, serialized_header_size=-1)\n",
      "7142034d-61b0-4dc7-90fb-4cde18854a74 RecordMetadata(topic='test-topic-2', partition=0, topic_partition=TopicPartition(topic='test-topic-2', partition=0), offset=2, timestamp=1710672735103, log_start_offset=0, checksum=None, serialized_key_size=-1, serialized_value_size=186, serialized_header_size=-1)\n",
      "6642e49b-6a15-4a44-9727-bad42b652352 RecordMetadata(topic='test-topic-2', partition=0, topic_partition=TopicPartition(topic='test-topic-2', partition=0), offset=3, timestamp=1710672745146, log_start_offset=0, checksum=None, serialized_key_size=-1, serialized_value_size=187, serialized_header_size=-1)\n",
      "c07020c6-53a2-4fd5-8796-af23bd70ea23 RecordMetadata(topic='test-topic-2', partition=0, topic_partition=TopicPartition(topic='test-topic-2', partition=0), offset=4, timestamp=1710672755177, log_start_offset=0, checksum=None, serialized_key_size=-1, serialized_value_size=185, serialized_header_size=-1)\n",
      "2a2c6520-983d-4b47-bdc1-fef25dcfaeb4 RecordMetadata(topic='test-topic-2', partition=0, topic_partition=TopicPartition(topic='test-topic-2', partition=0), offset=5, timestamp=1710672765198, log_start_offset=0, checksum=None, serialized_key_size=-1, serialized_value_size=183, serialized_header_size=-1)\n",
      "fb659b34-5668-4d33-9e3b-4be34647cc5a RecordMetadata(topic='test-topic-2', partition=0, topic_partition=TopicPartition(topic='test-topic-2', partition=0), offset=6, timestamp=1710672775226, log_start_offset=0, checksum=None, serialized_key_size=-1, serialized_value_size=189, serialized_header_size=-1)\n",
      "d28b678b-6668-4653-a43d-bcc8da3c2adf RecordMetadata(topic='test-topic-2', partition=0, topic_partition=TopicPartition(topic='test-topic-2', partition=0), offset=7, timestamp=1710672785236, log_start_offset=0, checksum=None, serialized_key_size=-1, serialized_value_size=186, serialized_header_size=-1)\n",
      "1c7031b4-b6a4-40dd-9449-39b033e44fb4 RecordMetadata(topic='test-topic-2', partition=0, topic_partition=TopicPartition(topic='test-topic-2', partition=0), offset=8, timestamp=1710672795267, log_start_offset=0, checksum=None, serialized_key_size=-1, serialized_value_size=187, serialized_header_size=-1)\n",
      "41923b30-2fa8-4ab5-bc50-71244dbb8e6b RecordMetadata(topic='test-topic-2', partition=0, topic_partition=TopicPartition(topic='test-topic-2', partition=0), offset=9, timestamp=1710672805292, log_start_offset=0, checksum=None, serialized_key_size=-1, serialized_value_size=182, serialized_header_size=-1)\n",
      "1a883d2e-adc3-4e54-8b4f-aace3317005a RecordMetadata(topic='test-topic-2', partition=0, topic_partition=TopicPartition(topic='test-topic-2', partition=0), offset=10, timestamp=1710672815347, log_start_offset=0, checksum=None, serialized_key_size=-1, serialized_value_size=182, serialized_header_size=-1)\n",
      "04ddbfe8-37cf-4bf6-886e-f8c85a700758 RecordMetadata(topic='test-topic-2', partition=0, topic_partition=TopicPartition(topic='test-topic-2', partition=0), offset=11, timestamp=1710672825370, log_start_offset=0, checksum=None, serialized_key_size=-1, serialized_value_size=191, serialized_header_size=-1)\n",
      "1bc3a55f-f6f4-4737-b182-10aa5957f256 RecordMetadata(topic='test-topic-2', partition=0, topic_partition=TopicPartition(topic='test-topic-2', partition=0), offset=12, timestamp=1710672835415, log_start_offset=0, checksum=None, serialized_key_size=-1, serialized_value_size=183, serialized_header_size=-1)\n",
      "5968230c-d5d2-431c-aa1a-29e15dfcf75f RecordMetadata(topic='test-topic-2', partition=0, topic_partition=TopicPartition(topic='test-topic-2', partition=0), offset=13, timestamp=1710672845449, log_start_offset=0, checksum=None, serialized_key_size=-1, serialized_value_size=186, serialized_header_size=-1)\n",
      "1b219e88-2e79-410d-a92d-a489602374bd RecordMetadata(topic='test-topic-2', partition=0, topic_partition=TopicPartition(topic='test-topic-2', partition=0), offset=14, timestamp=1710672855487, log_start_offset=0, checksum=None, serialized_key_size=-1, serialized_value_size=178, serialized_header_size=-1)\n",
      "e2d9780c-90a8-4978-805b-06f5f4722893 RecordMetadata(topic='test-topic-2', partition=0, topic_partition=TopicPartition(topic='test-topic-2', partition=0), offset=15, timestamp=1710672865504, log_start_offset=0, checksum=None, serialized_key_size=-1, serialized_value_size=183, serialized_header_size=-1)\n",
      "82b0279a-154e-4060-bd3b-6c87da47f5ad RecordMetadata(topic='test-topic-2', partition=0, topic_partition=TopicPartition(topic='test-topic-2', partition=0), offset=16, timestamp=1710672875542, log_start_offset=0, checksum=None, serialized_key_size=-1, serialized_value_size=185, serialized_header_size=-1)\n",
      "47a603ff-e309-4ee5-a1f7-d621f71593e1 RecordMetadata(topic='test-topic-2', partition=0, topic_partition=TopicPartition(topic='test-topic-2', partition=0), offset=17, timestamp=1710672885570, log_start_offset=0, checksum=None, serialized_key_size=-1, serialized_value_size=184, serialized_header_size=-1)\n",
      "0f827d12-e486-46f8-9981-ac667fc08d5e RecordMetadata(topic='test-topic-2', partition=0, topic_partition=TopicPartition(topic='test-topic-2', partition=0), offset=18, timestamp=1710672895599, log_start_offset=0, checksum=None, serialized_key_size=-1, serialized_value_size=182, serialized_header_size=-1)\n",
      "b197e091-fc1a-4cfd-ad7f-6b821c701172 RecordMetadata(topic='test-topic-2', partition=0, topic_partition=TopicPartition(topic='test-topic-2', partition=0), offset=19, timestamp=1710672905626, log_start_offset=0, checksum=None, serialized_key_size=-1, serialized_value_size=179, serialized_header_size=-1)\n",
      "e1727630-5263-4bf5-92f5-8d04d1c67667 RecordMetadata(topic='test-topic-2', partition=0, topic_partition=TopicPartition(topic='test-topic-2', partition=0), offset=20, timestamp=1710672915652, log_start_offset=0, checksum=None, serialized_key_size=-1, serialized_value_size=181, serialized_header_size=-1)\n"
     ]
    },
    {
     "ename": "KeyboardInterrupt",
     "evalue": "",
     "output_type": "error",
     "traceback": [
      "\u001b[0;31m---------------------------------------------------------------------------\u001b[0m",
      "\u001b[0;31mKeyboardInterrupt\u001b[0m                         Traceback (most recent call last)",
      "Cell \u001b[0;32mIn[7], line 25\u001b[0m\n\u001b[1;32m     23\u001b[0m \u001b[38;5;66;03m# response = producer.send(topic=kafka_topic_partition, value=_payload, partition=2)\u001b[39;00m\n\u001b[1;32m     24\u001b[0m \u001b[38;5;28mprint\u001b[39m(json_data[\u001b[38;5;124m'\u001b[39m\u001b[38;5;124memp_id\u001b[39m\u001b[38;5;124m'\u001b[39m],response\u001b[38;5;241m.\u001b[39mget())\n\u001b[0;32m---> 25\u001b[0m \u001b[43msleep\u001b[49m\u001b[43m(\u001b[49m\u001b[38;5;241;43m10\u001b[39;49m\u001b[43m)\u001b[49m\n",
      "\u001b[0;31mKeyboardInterrupt\u001b[0m: "
     ]
    }
   ],
   "source": [
    "class DataGenerator(object):\n",
    "    @staticmethod\n",
    "    def get_data():\n",
    "        return [\n",
    "                uuid.uuid4().__str__(),\n",
    "                faker.name(),\n",
    "                faker.random_element(elements=('IT', 'HR', 'Sales', 'Marketing')),\n",
    "                faker.random_element(elements=('CA', 'NY', 'TX', 'FL', 'IL', 'RJ')),\n",
    "                faker.random_int(min=10000, max=150000),\n",
    "                faker.random_int(min=18, max=60),\n",
    "                faker.random_int(min=0, max=100000),\n",
    "                faker.unix_time()\n",
    "        ]\n",
    "\n",
    "for i in range(1,400):\n",
    "    columns =  [\"emp_id\", \"employee_name\", \"department\", \"state\", \"salary\", \"age\", \"bonus\", \"ts\", \"new\"]\n",
    "    data_list = DataGenerator.get_data()\n",
    "    json_data = dict(\n",
    "        zip(columns,data_list)\n",
    "    )\n",
    "    _payload = json.dumps(json_data).encode(\"utf-8\")\n",
    "    response = producer.send(topic=kafka_topic_partition, value=_payload)\n",
    "    # response = producer.send(topic=kafka_topic_partition, value=_payload, partition=2)\n",
    "    print(json_data['emp_id'],response.get())\n",
    "    sleep(10)"
   ]
  },
  {
   "cell_type": "code",
   "execution_count": null,
   "id": "b204f585-d129-4310-8cd1-4d3fbcaf2221",
   "metadata": {},
   "outputs": [],
   "source": []
  }
 ],
 "metadata": {
  "kernelspec": {
   "display_name": "Python 3 (ipykernel)",
   "language": "python",
   "name": "python3"
  },
  "language_info": {
   "codemirror_mode": {
    "name": "ipython",
    "version": 3
   },
   "file_extension": ".py",
   "mimetype": "text/x-python",
   "name": "python",
   "nbconvert_exporter": "python",
   "pygments_lexer": "ipython3",
   "version": "3.10.10"
  }
 },
 "nbformat": 4,
 "nbformat_minor": 5
}
