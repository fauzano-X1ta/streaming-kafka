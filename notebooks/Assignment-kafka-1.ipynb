{
 "cells": [
  {
   "cell_type": "code",
   "execution_count": 35,
   "metadata": {
    "tags": []
   },
   "outputs": [],
   "source": [
    "import json\n",
    "import uuid\n",
    "import os\n",
    "import json\n",
    "from dotenv import load_dotenv\n",
    "from pathlib import Path\n",
    "from kafka import KafkaProducer\n",
    "from faker import Faker\n",
    "from time import sleep"
   ]
  },
  {
   "cell_type": "code",
   "execution_count": 36,
   "metadata": {
    "tags": []
   },
   "outputs": [
    {
     "data": {
      "text/plain": [
       "True"
      ]
     },
     "execution_count": 36,
     "metadata": {},
     "output_type": "execute_result"
    }
   ],
   "source": [
    "dotenv_path = Path('/resources/.env')\n",
    "load_dotenv(dotenv_path=dotenv_path)"
   ]
  },
  {
   "cell_type": "code",
   "execution_count": 37,
   "metadata": {
    "tags": []
   },
   "outputs": [],
   "source": [
    "kafka_host = os.getenv('KAFKA_HOST')\n",
    "kafka_topic = os.getenv('KAFKA_TOPIC_NAME')\n",
    "kafka_topic_partition = os.getenv('KAFKA_TOPIC_NAME')+\"-2\""
   ]
  },
  {
   "cell_type": "code",
   "execution_count": 38,
   "metadata": {
    "tags": []
   },
   "outputs": [
    {
     "name": "stdout",
     "output_type": "stream",
     "text": [
      "dataeng-kafka\n"
     ]
    }
   ],
   "source": [
    "print(kafka_host)"
   ]
  },
  {
   "cell_type": "code",
   "execution_count": 39,
   "metadata": {
    "tags": []
   },
   "outputs": [],
   "source": [
    "producer = KafkaProducer(bootstrap_servers=f'{kafka_host}:9092')"
   ]
  },
  {
   "cell_type": "code",
   "execution_count": 40,
   "metadata": {
    "tags": []
   },
   "outputs": [],
   "source": [
    "_instance = Faker()\n",
    "global faker\n",
    "faker = Faker()"
   ]
  },
  {
   "cell_type": "code",
   "execution_count": 41,
   "metadata": {
    "tags": []
   },
   "outputs": [
    {
     "name": "stdout",
     "output_type": "stream",
     "text": [
      "Sent message: fea27fcb-c142-4306-95ca-84a71afddb55, response: RecordMetadata(topic='purchase_topic', partition=0, topic_partition=TopicPartition(topic='purchase_topic', partition=0), offset=18, timestamp=1710678555990, log_start_offset=0, checksum=None, serialized_key_size=-1, serialized_value_size=143, serialized_header_size=-1)\n",
      "Sent message: 007f9c29-0256-475e-bd5b-c79618d2eb78, response: RecordMetadata(topic='purchase_topic', partition=0, topic_partition=TopicPartition(topic='purchase_topic', partition=0), offset=19, timestamp=1710678566065, log_start_offset=0, checksum=None, serialized_key_size=-1, serialized_value_size=144, serialized_header_size=-1)\n",
      "Sent message: 0149bd50-e7dc-4024-93b0-31d75dee8094, response: RecordMetadata(topic='purchase_topic', partition=0, topic_partition=TopicPartition(topic='purchase_topic', partition=0), offset=20, timestamp=1710678576152, log_start_offset=0, checksum=None, serialized_key_size=-1, serialized_value_size=143, serialized_header_size=-1)\n",
      "Sent message: 7102455c-189a-4a99-81d5-5acb7176d327, response: RecordMetadata(topic='purchase_topic', partition=0, topic_partition=TopicPartition(topic='purchase_topic', partition=0), offset=21, timestamp=1710678586234, log_start_offset=0, checksum=None, serialized_key_size=-1, serialized_value_size=143, serialized_header_size=-1)\n",
      "Sent message: fb96d58f-a0af-442b-9033-73dcd39a94ce, response: RecordMetadata(topic='purchase_topic', partition=0, topic_partition=TopicPartition(topic='purchase_topic', partition=0), offset=22, timestamp=1710678596303, log_start_offset=0, checksum=None, serialized_key_size=-1, serialized_value_size=144, serialized_header_size=-1)\n",
      "Sent message: 7812a18e-18b9-4c15-8250-2e7f00561ab1, response: RecordMetadata(topic='purchase_topic', partition=0, topic_partition=TopicPartition(topic='purchase_topic', partition=0), offset=23, timestamp=1710678606384, log_start_offset=0, checksum=None, serialized_key_size=-1, serialized_value_size=142, serialized_header_size=-1)\n",
      "Sent message: 83929350-1af0-4faf-a93e-c8f5b7b91db9, response: RecordMetadata(topic='purchase_topic', partition=0, topic_partition=TopicPartition(topic='purchase_topic', partition=0), offset=24, timestamp=1710678616469, log_start_offset=0, checksum=None, serialized_key_size=-1, serialized_value_size=143, serialized_header_size=-1)\n"
     ]
    },
    {
     "ename": "KeyboardInterrupt",
     "evalue": "",
     "output_type": "error",
     "traceback": [
      "\u001b[0;31m---------------------------------------------------------------------------\u001b[0m",
      "\u001b[0;31mKeyboardInterrupt\u001b[0m                         Traceback (most recent call last)",
      "Cell \u001b[0;32mIn[41], line 31\u001b[0m\n\u001b[1;32m     29\u001b[0m response \u001b[38;5;241m=\u001b[39m producer\u001b[38;5;241m.\u001b[39msend(topic\u001b[38;5;241m=\u001b[39mkafka_topic_partition, value\u001b[38;5;241m=\u001b[39m_payload)\n\u001b[1;32m     30\u001b[0m \u001b[38;5;28mprint\u001b[39m(\u001b[38;5;124mf\u001b[39m\u001b[38;5;124m\"\u001b[39m\u001b[38;5;124mSent message: \u001b[39m\u001b[38;5;132;01m{\u001b[39;00mevent_data[\u001b[38;5;124m'\u001b[39m\u001b[38;5;124mtransaction_id\u001b[39m\u001b[38;5;124m'\u001b[39m]\u001b[38;5;132;01m}\u001b[39;00m\u001b[38;5;124m, response: \u001b[39m\u001b[38;5;132;01m{\u001b[39;00mresponse\u001b[38;5;241m.\u001b[39mget()\u001b[38;5;132;01m}\u001b[39;00m\u001b[38;5;124m\"\u001b[39m)\n\u001b[0;32m---> 31\u001b[0m \u001b[43msleep\u001b[49m\u001b[43m(\u001b[49m\u001b[38;5;241;43m10\u001b[39;49m\u001b[43m)\u001b[49m\n",
      "\u001b[0;31mKeyboardInterrupt\u001b[0m: "
     ]
    }
   ],
   "source": [
    "import uuid\n",
    "from faker import Faker\n",
    "import json\n",
    "from time import sleep\n",
    "\n",
    "class PurchaseEventProducer(object):\n",
    "    @staticmethod\n",
    "    def generate_purchase_event():\n",
    "        faker = Faker()\n",
    "        products = ['Product A', 'Product B', 'Product C']\n",
    "        return {\n",
    "            'transaction_id': str(uuid.uuid4()),\n",
    "            'timestamp': faker.unix_time(),\n",
    "            'product': faker.random_element(elements=products),\n",
    "            'amount': faker.random_int(min=1, max=100),\n",
    "            'customer_id': faker.random_number(digits=6)\n",
    "        }\n",
    "\n",
    "# Initialize Kafka producer\n",
    "producer = KafkaProducer(bootstrap_servers=f'{kafka_host}:9092')\n",
    "\n",
    "# Define Kafka topic\n",
    "kafka_topic_partition = 'purchase_topic'\n",
    "\n",
    "# Send purchase events to Kafka topic\n",
    "for i in range(1, 400):\n",
    "    event_data = PurchaseEventProducer.generate_purchase_event()\n",
    "    _payload = json.dumps(event_data).encode(\"utf-8\")\n",
    "    response = producer.send(topic=kafka_topic_partition, value=_payload)\n",
    "    print(f\"Sent message: {event_data['transaction_id']}, response: {response.get()}\")\n",
    "    sleep(10)\n"
   ]
  },
  {
   "cell_type": "code",
   "execution_count": null,
   "metadata": {},
   "outputs": [],
   "source": []
  },
  {
   "cell_type": "code",
   "execution_count": null,
   "metadata": {},
   "outputs": [],
   "source": []
  }
 ],
 "metadata": {
  "kernelspec": {
   "display_name": "Python 3 (ipykernel)",
   "language": "python",
   "name": "python3"
  },
  "language_info": {
   "codemirror_mode": {
    "name": "ipython",
    "version": 3
   },
   "file_extension": ".py",
   "mimetype": "text/x-python",
   "name": "python",
   "nbconvert_exporter": "python",
   "pygments_lexer": "ipython3",
   "version": "3.10.10"
  }
 },
 "nbformat": 4,
 "nbformat_minor": 4
}
